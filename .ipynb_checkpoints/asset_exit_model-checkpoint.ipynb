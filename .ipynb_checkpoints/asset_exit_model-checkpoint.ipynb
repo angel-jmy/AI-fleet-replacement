{
 "cells": [
  {
   "cell_type": "code",
   "execution_count": 12,
   "metadata": {},
   "outputs": [],
   "source": [
    "import pandas as pd\n",
    "import numpy as np\n"
   ]
  },
  {
   "cell_type": "markdown",
   "metadata": {},
   "source": [
    "# Generate a dataset to start with"
   ]
  },
  {
   "cell_type": "code",
   "execution_count": 14,
   "metadata": {},
   "outputs": [
    {
     "data": {
      "text/html": [
       "<div>\n",
       "<style scoped>\n",
       "    .dataframe tbody tr th:only-of-type {\n",
       "        vertical-align: middle;\n",
       "    }\n",
       "\n",
       "    .dataframe tbody tr th {\n",
       "        vertical-align: top;\n",
       "    }\n",
       "\n",
       "    .dataframe thead th {\n",
       "        text-align: right;\n",
       "    }\n",
       "</style>\n",
       "<table border=\"1\" class=\"dataframe\">\n",
       "  <thead>\n",
       "    <tr style=\"text-align: right;\">\n",
       "      <th></th>\n",
       "      <th>vehicle_id</th>\n",
       "      <th>age_years</th>\n",
       "      <th>mileage_km</th>\n",
       "      <th>repair_cost_usd</th>\n",
       "      <th>downtime_days_last_year</th>\n",
       "      <th>accident_count</th>\n",
       "      <th>fuel_type</th>\n",
       "    </tr>\n",
       "  </thead>\n",
       "  <tbody>\n",
       "    <tr>\n",
       "      <th>0</th>\n",
       "      <td>VEH001</td>\n",
       "      <td>9</td>\n",
       "      <td>148693</td>\n",
       "      <td>864.967443</td>\n",
       "      <td>2</td>\n",
       "      <td>0</td>\n",
       "      <td>gasoline</td>\n",
       "    </tr>\n",
       "    <tr>\n",
       "      <th>1</th>\n",
       "      <td>VEH002</td>\n",
       "      <td>6</td>\n",
       "      <td>141740</td>\n",
       "      <td>1470.874426</td>\n",
       "      <td>4</td>\n",
       "      <td>0</td>\n",
       "      <td>gasoline</td>\n",
       "    </tr>\n",
       "    <tr>\n",
       "      <th>2</th>\n",
       "      <td>VEH003</td>\n",
       "      <td>13</td>\n",
       "      <td>103107</td>\n",
       "      <td>1948.927647</td>\n",
       "      <td>4</td>\n",
       "      <td>1</td>\n",
       "      <td>gasoline</td>\n",
       "    </tr>\n",
       "    <tr>\n",
       "      <th>3</th>\n",
       "      <td>VEH004</td>\n",
       "      <td>10</td>\n",
       "      <td>126131</td>\n",
       "      <td>1358.549576</td>\n",
       "      <td>4</td>\n",
       "      <td>0</td>\n",
       "      <td>electric</td>\n",
       "    </tr>\n",
       "    <tr>\n",
       "      <th>4</th>\n",
       "      <td>VEH005</td>\n",
       "      <td>7</td>\n",
       "      <td>177917</td>\n",
       "      <td>949.753482</td>\n",
       "      <td>2</td>\n",
       "      <td>2</td>\n",
       "      <td>electric</td>\n",
       "    </tr>\n",
       "  </tbody>\n",
       "</table>\n",
       "</div>"
      ],
      "text/plain": [
       "  vehicle_id  age_years  mileage_km  repair_cost_usd  downtime_days_last_year  \\\n",
       "0     VEH001          9      148693       864.967443                        2   \n",
       "1     VEH002          6      141740      1470.874426                        4   \n",
       "2     VEH003         13      103107      1948.927647                        4   \n",
       "3     VEH004         10      126131      1358.549576                        4   \n",
       "4     VEH005          7      177917       949.753482                        2   \n",
       "\n",
       "   accident_count fuel_type  \n",
       "0               0  gasoline  \n",
       "1               0  gasoline  \n",
       "2               1  gasoline  \n",
       "3               0  electric  \n",
       "4               2  electric  "
      ]
     },
     "execution_count": 14,
     "metadata": {},
     "output_type": "execute_result"
    }
   ],
   "source": [
    "np.random.seed(42)\n",
    "\n",
    "n = 100  # number of vehicles\n",
    "\n",
    "df = pd.DataFrame({\n",
    "    'vehicle_id': [f'VEH{i:03}' for i in range(1, n+1)],\n",
    "    'age_years': np.random.randint(3, 15, n),\n",
    "    'mileage_km': np.random.normal(150000, 30000, n).astype(int),\n",
    "    'repair_cost_usd': np.random.normal(1200, 400, n).clip(200, 5000),\n",
    "    'downtime_days_last_year': np.random.poisson(5, n),\n",
    "    'accident_count': np.random.poisson(0.7, n),\n",
    "    'fuel_type': np.random.choice(['gasoline', 'diesel', 'electric'], n, p=[0.6, 0.1, 0.3])\n",
    "})\n",
    "\n",
    "df.head()"
   ]
  },
  {
   "cell_type": "code",
   "execution_count": 10,
   "metadata": {},
   "outputs": [],
   "source": []
  },
  {
   "cell_type": "code",
   "execution_count": null,
   "metadata": {},
   "outputs": [],
   "source": []
  }
 ],
 "metadata": {
  "kernelspec": {
   "display_name": "Python 3",
   "language": "python",
   "name": "python3"
  },
  "language_info": {
   "codemirror_mode": {
    "name": "ipython",
    "version": 3
   },
   "file_extension": ".py",
   "mimetype": "text/x-python",
   "name": "python",
   "nbconvert_exporter": "python",
   "pygments_lexer": "ipython3",
   "version": "3.8.5"
  }
 },
 "nbformat": 4,
 "nbformat_minor": 4
}
