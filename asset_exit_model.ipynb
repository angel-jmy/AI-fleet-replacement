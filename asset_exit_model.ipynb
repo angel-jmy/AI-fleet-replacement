{
 "cells": [
  {
   "cell_type": "code",
   "execution_count": 12,
   "metadata": {},
   "outputs": [],
   "source": [
    "import pandas as pd\n",
    "import numpy as np\n"
   ]
  },
  {
   "cell_type": "markdown",
   "metadata": {},
   "source": [
    "# Generate a dataset to start with"
   ]
  },
  {
   "cell_type": "code",
   "execution_count": 14,
   "metadata": {},
   "outputs": [
    {
     "data": {
      "text/html": [
       "<div>\n",
       "<style scoped>\n",
       "    .dataframe tbody tr th:only-of-type {\n",
       "        vertical-align: middle;\n",
       "    }\n",
       "\n",
       "    .dataframe tbody tr th {\n",
       "        vertical-align: top;\n",
       "    }\n",
       "\n",
       "    .dataframe thead th {\n",
       "        text-align: right;\n",
       "    }\n",
       "</style>\n",
       "<table border=\"1\" class=\"dataframe\">\n",
       "  <thead>\n",
       "    <tr style=\"text-align: right;\">\n",
       "      <th></th>\n",
       "      <th>vehicle_id</th>\n",
       "      <th>age_years</th>\n",
       "      <th>mileage_km</th>\n",
       "      <th>repair_cost_usd</th>\n",
       "      <th>downtime_days_last_year</th>\n",
       "      <th>accident_count</th>\n",
       "      <th>fuel_type</th>\n",
       "    </tr>\n",
       "  </thead>\n",
       "  <tbody>\n",
       "    <tr>\n",
       "      <th>0</th>\n",
       "      <td>VEH001</td>\n",
       "      <td>9</td>\n",
       "      <td>148693</td>\n",
       "      <td>864.967443</td>\n",
       "      <td>2</td>\n",
       "      <td>0</td>\n",
       "      <td>gasoline</td>\n",
       "    </tr>\n",
       "    <tr>\n",
       "      <th>1</th>\n",
       "      <td>VEH002</td>\n",
       "      <td>6</td>\n",
       "      <td>141740</td>\n",
       "      <td>1470.874426</td>\n",
       "      <td>4</td>\n",
       "      <td>0</td>\n",
       "      <td>gasoline</td>\n",
       "    </tr>\n",
       "    <tr>\n",
       "      <th>2</th>\n",
       "      <td>VEH003</td>\n",
       "      <td>13</td>\n",
       "      <td>103107</td>\n",
       "      <td>1948.927647</td>\n",
       "      <td>4</td>\n",
       "      <td>1</td>\n",
       "      <td>gasoline</td>\n",
       "    </tr>\n",
       "    <tr>\n",
       "      <th>3</th>\n",
       "      <td>VEH004</td>\n",
       "      <td>10</td>\n",
       "      <td>126131</td>\n",
       "      <td>1358.549576</td>\n",
       "      <td>4</td>\n",
       "      <td>0</td>\n",
       "      <td>electric</td>\n",
       "    </tr>\n",
       "    <tr>\n",
       "      <th>4</th>\n",
       "      <td>VEH005</td>\n",
       "      <td>7</td>\n",
       "      <td>177917</td>\n",
       "      <td>949.753482</td>\n",
       "      <td>2</td>\n",
       "      <td>2</td>\n",
       "      <td>electric</td>\n",
       "    </tr>\n",
       "  </tbody>\n",
       "</table>\n",
       "</div>"
      ],
      "text/plain": [
       "  vehicle_id  age_years  mileage_km  repair_cost_usd  downtime_days_last_year  \\\n",
       "0     VEH001          9      148693       864.967443                        2   \n",
       "1     VEH002          6      141740      1470.874426                        4   \n",
       "2     VEH003         13      103107      1948.927647                        4   \n",
       "3     VEH004         10      126131      1358.549576                        4   \n",
       "4     VEH005          7      177917       949.753482                        2   \n",
       "\n",
       "   accident_count fuel_type  \n",
       "0               0  gasoline  \n",
       "1               0  gasoline  \n",
       "2               1  gasoline  \n",
       "3               0  electric  \n",
       "4               2  electric  "
      ]
     },
     "execution_count": 14,
     "metadata": {},
     "output_type": "execute_result"
    }
   ],
   "source": [
    "np.random.seed(42)\n",
    "\n",
    "n = 100  # number of vehicles\n",
    "\n",
    "df = pd.DataFrame({\n",
    "    'vehicle_id': [f'VEH{i:03}' for i in range(1, n+1)],\n",
    "    'age_years': np.random.randint(3, 15, n),\n",
    "    'mileage_km': np.random.normal(150000, 30000, n).astype(int),\n",
    "    'repair_cost_usd': np.random.normal(1200, 400, n).clip(200, 5000),\n",
    "    'downtime_days_last_year': np.random.poisson(5, n),\n",
    "    'accident_count': np.random.poisson(0.7, n),\n",
    "    'fuel_type': np.random.choice(['gasoline', 'diesel', 'electric'], n, p=[0.6, 0.1, 0.3])\n",
    "})\n",
    "\n",
    "df.head()"
   ]
  },
  {
   "cell_type": "code",
   "execution_count": 15,
   "metadata": {},
   "outputs": [
    {
     "data": {
      "text/html": [
       "<div>\n",
       "<style scoped>\n",
       "    .dataframe tbody tr th:only-of-type {\n",
       "        vertical-align: middle;\n",
       "    }\n",
       "\n",
       "    .dataframe tbody tr th {\n",
       "        vertical-align: top;\n",
       "    }\n",
       "\n",
       "    .dataframe thead th {\n",
       "        text-align: right;\n",
       "    }\n",
       "</style>\n",
       "<table border=\"1\" class=\"dataframe\">\n",
       "  <thead>\n",
       "    <tr style=\"text-align: right;\">\n",
       "      <th></th>\n",
       "      <th>vehicle_id</th>\n",
       "      <th>age_years</th>\n",
       "      <th>mileage_km</th>\n",
       "      <th>repair_cost_usd</th>\n",
       "      <th>downtime_days_last_year</th>\n",
       "      <th>accident_count</th>\n",
       "      <th>fuel_type</th>\n",
       "      <th>exit_risk_score</th>\n",
       "      <th>is_exit_candidate</th>\n",
       "    </tr>\n",
       "  </thead>\n",
       "  <tbody>\n",
       "    <tr>\n",
       "      <th>0</th>\n",
       "      <td>VEH001</td>\n",
       "      <td>9</td>\n",
       "      <td>148693</td>\n",
       "      <td>864.967443</td>\n",
       "      <td>2</td>\n",
       "      <td>0</td>\n",
       "      <td>gasoline</td>\n",
       "      <td>0.43</td>\n",
       "      <td>0</td>\n",
       "    </tr>\n",
       "    <tr>\n",
       "      <th>1</th>\n",
       "      <td>VEH002</td>\n",
       "      <td>6</td>\n",
       "      <td>141740</td>\n",
       "      <td>1470.874426</td>\n",
       "      <td>4</td>\n",
       "      <td>0</td>\n",
       "      <td>gasoline</td>\n",
       "      <td>0.54</td>\n",
       "      <td>0</td>\n",
       "    </tr>\n",
       "    <tr>\n",
       "      <th>2</th>\n",
       "      <td>VEH003</td>\n",
       "      <td>13</td>\n",
       "      <td>103107</td>\n",
       "      <td>1948.927647</td>\n",
       "      <td>4</td>\n",
       "      <td>1</td>\n",
       "      <td>gasoline</td>\n",
       "      <td>0.64</td>\n",
       "      <td>1</td>\n",
       "    </tr>\n",
       "    <tr>\n",
       "      <th>3</th>\n",
       "      <td>VEH004</td>\n",
       "      <td>10</td>\n",
       "      <td>126131</td>\n",
       "      <td>1358.549576</td>\n",
       "      <td>4</td>\n",
       "      <td>0</td>\n",
       "      <td>electric</td>\n",
       "      <td>0.49</td>\n",
       "      <td>0</td>\n",
       "    </tr>\n",
       "    <tr>\n",
       "      <th>4</th>\n",
       "      <td>VEH005</td>\n",
       "      <td>7</td>\n",
       "      <td>177917</td>\n",
       "      <td>949.753482</td>\n",
       "      <td>2</td>\n",
       "      <td>2</td>\n",
       "      <td>electric</td>\n",
       "      <td>0.70</td>\n",
       "      <td>1</td>\n",
       "    </tr>\n",
       "  </tbody>\n",
       "</table>\n",
       "</div>"
      ],
      "text/plain": [
       "  vehicle_id  age_years  mileage_km  repair_cost_usd  downtime_days_last_year  \\\n",
       "0     VEH001          9      148693       864.967443                        2   \n",
       "1     VEH002          6      141740      1470.874426                        4   \n",
       "2     VEH003         13      103107      1948.927647                        4   \n",
       "3     VEH004         10      126131      1358.549576                        4   \n",
       "4     VEH005          7      177917       949.753482                        2   \n",
       "\n",
       "   accident_count fuel_type  exit_risk_score  is_exit_candidate  \n",
       "0               0  gasoline             0.43                  0  \n",
       "1               0  gasoline             0.54                  0  \n",
       "2               1  gasoline             0.64                  1  \n",
       "3               0  electric             0.49                  0  \n",
       "4               2  electric             0.70                  1  "
      ]
     },
     "execution_count": 15,
     "metadata": {},
     "output_type": "execute_result"
    }
   ],
   "source": [
    "# Add synthetic target: 1 = high exit priority\n",
    "df['exit_risk_score'] = (\n",
    "    0.4 * (df['mileage_km'] / df['mileage_km'].max()) +\n",
    "    0.3 * (df['repair_cost_usd'] / df['repair_cost_usd'].max()) +\n",
    "    0.2 * (df['downtime_days_last_year'] / df['downtime_days_last_year'].max()) +\n",
    "    0.1 * df['accident_count']\n",
    ")\n",
    "\n",
    "df['exit_risk_score'] = df['exit_risk_score'].round(2)\n",
    "df['is_exit_candidate'] = (df['exit_risk_score'] > 0.6).astype(int)\n",
    "\n",
    "df.head()"
   ]
  },
  {
   "cell_type": "markdown",
   "metadata": {},
   "source": [
    "# Build the model"
   ]
  },
  {
   "cell_type": "code",
   "execution_count": 16,
   "metadata": {},
   "outputs": [],
   "source": [
    "# Set up the features and targets\n",
    "\n",
    "from sklearn.model_selection import train_test_split\n",
    "from sklearn.preprocessing import StandardScaler\n",
    "\n",
    "X = df[['age_years', 'mileage_km', 'repair_cost_usd', 'downtime_days_last_year', 'accident_count']]\n",
    "y = df['is_exit_candidate']\n",
    "\n",
    "# Split data\n",
    "X_train, X_test, y_train, y_test = train_test_split(X, y, test_size=0.2, random_state=42)\n",
    "\n",
    "# Normalize features (optional for tree models, required for linear/logistic)\n",
    "scaler = StandardScaler()\n",
    "X_train_scaled = scaler.fit_transform(X_train)\n",
    "X_test_scaled = scaler.transform(X_test)\n"
   ]
  },
  {
   "cell_type": "code",
   "execution_count": 24,
   "metadata": {},
   "outputs": [
    {
     "name": "stdout",
     "output_type": "stream",
     "text": [
      "              precision    recall  f1-score   support\n",
      "\n",
      "           0       0.75      1.00      0.86        12\n",
      "           1       1.00      0.50      0.67         8\n",
      "\n",
      "    accuracy                           0.80        20\n",
      "   macro avg       0.88      0.75      0.76        20\n",
      "weighted avg       0.85      0.80      0.78        20\n",
      "\n",
      "Accuracy: 0.800\n"
     ]
    }
   ],
   "source": [
    "# Train a classifier\n",
    "\n",
    "from sklearn.ensemble import RandomForestClassifier\n",
    "from sklearn.metrics import classification_report, confusion_matrix\n",
    "from sklearn.metrics import accuracy_score\n",
    "\n",
    "\n",
    "model = RandomForestClassifier(n_estimators=100, random_state=42)\n",
    "model.fit(X_train, y_train)\n",
    "\n",
    "# Predict\n",
    "y_pred = model.predict(X_test)\n",
    "\n",
    "# Evaluate\n",
    "print(classification_report(y_test, y_pred))\n",
    "\n",
    "# Compute accuracy\n",
    "accuracy = accuracy_score(y_test, y_pred)\n",
    "print(f\"Accuracy: {accuracy:.3f}\")\n",
    "\n"
   ]
  },
  {
   "cell_type": "code",
   "execution_count": 25,
   "metadata": {},
   "outputs": [
    {
     "name": "stdout",
     "output_type": "stream",
     "text": [
      "Confusion Matrix:\n",
      "[[12  0]\n",
      " [ 4  4]]\n"
     ]
    },
    {
     "data": {
      "image/png": "[encoded data removed]",
      "text/plain": [
       "<Figure size 432x288 with 2 Axes>"
      ]
     },
     "metadata": {
      "needs_background": "light"
     },
     "output_type": "display_data"
    }
   ],
   "source": [
    "# Construct the confusion matrix\n",
    "from sklearn.metrics import confusion_matrix, ConfusionMatrixDisplay\n",
    "\n",
    "# Predict on test set\n",
    "y_pred = model.predict(X_test)\n",
    "\n",
    "# Compute confusion matrix\n",
    "cm = confusion_matrix(y_test, y_pred)\n",
    "print(\"Confusion Matrix:\")\n",
    "print(cm)\n",
    "\n",
    "# Optional: Plot it\n",
    "disp = ConfusionMatrixDisplay(confusion_matrix=cm, display_labels=[\"Not Retired\", \"Retired\"])\n",
    "disp.plot(cmap=\"Blues\")\n",
    "plt.title(\"Confusion Matrix\")\n",
    "plt.grid(False)\n",
    "plt.show()\n"
   ]
  },
  {
   "cell_type": "code",
   "execution_count": 21,
   "metadata": {},
   "outputs": [
    {
     "data": {
      "image/png": "[encoded data removed]",
      "text/plain": [
       "<Figure size 432x288 with 1 Axes>"
      ]
     },
     "metadata": {
      "needs_background": "light"
     },
     "output_type": "display_data"
    }
   ],
   "source": [
    "# Interpret the results\n",
    "\n",
    "import matplotlib.pyplot as plt\n",
    "import seaborn as sns\n",
    "\n",
    "importances = model.feature_importances_\n",
    "features = X.columns\n",
    "sns.barplot(x=importances, y=features)\n",
    "plt.title(\"Feature Importance\")\n",
    "plt.show()\n"
   ]
  },
  {
   "cell_type": "code",
   "execution_count": 22,
   "metadata": {},
   "outputs": [
    {
     "name": "stdout",
     "output_type": "stream",
     "text": [
      "AUC: 0.911\n"
     ]
    },
    {
     "data": {
      "image/png": "[encoded data removed]",
      "text/plain": [
       "<Figure size 432x288 with 1 Axes>"
      ]
     },
     "metadata": {
      "needs_background": "light"
     },
     "output_type": "display_data"
    }
   ],
   "source": [
    "from sklearn.metrics import roc_auc_score, roc_curve\n",
    "import matplotlib.pyplot as plt\n",
    "\n",
    "# Get predicted probabilities\n",
    "y_scores = model.predict_proba(X_test)[:, 1]  # probabilities for class \"1\"\n",
    "\n",
    "# Compute AUC\n",
    "auc = roc_auc_score(y_test, y_scores)\n",
    "print(f\"AUC: {auc:.3f}\")\n",
    "\n",
    "# Plot ROC curve\n",
    "fpr, tpr, thresholds = roc_curve(y_test, y_scores)\n",
    "\n",
    "plt.figure(figsize=(6, 4))\n",
    "plt.plot(fpr, tpr, label=f'AUC = {auc:.3f}')\n",
    "plt.plot([0, 1], [0, 1], '--', color='gray')\n",
    "plt.xlabel('False Positive Rate')\n",
    "plt.ylabel('True Positive Rate')\n",
    "plt.title('ROC Curve')\n",
    "plt.legend()\n",
    "plt.grid(True)\n",
    "plt.tight_layout()\n",
    "plt.show()\n"
   ]
  },
  {
   "cell_type": "code",
   "execution_count": null,
   "metadata": {},
   "outputs": [],
   "source": []
  }
 ],
 "metadata": {
  "kernelspec": {
   "display_name": "Python 3",
   "language": "python",
   "name": "python3"
  },
  "language_info": {
   "codemirror_mode": {
    "name": "ipython",
    "version": 3
   },
   "file_extension": ".py",
   "mimetype": "text/x-python",
   "name": "python",
   "nbconvert_exporter": "python",
   "pygments_lexer": "ipython3",
   "version": "3.8.5"
  }
 },
 "nbformat": 4,
 "nbformat_minor": 4
}
